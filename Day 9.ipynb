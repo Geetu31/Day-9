{
 "cells": [
  {
   "cell_type": "code",
   "execution_count": 1,
   "id": "270fb303",
   "metadata": {},
   "outputs": [],
   "source": [
    "#how to add key value pair in dictinary"
   ]
  },
  {
   "cell_type": "code",
   "execution_count": 7,
   "id": "61bfd369",
   "metadata": {},
   "outputs": [],
   "source": [
    "useraccount = {'username':'student1','firstname':'student','pwd':'122345'}"
   ]
  },
  {
   "cell_type": "code",
   "execution_count": 8,
   "id": "62009ad4",
   "metadata": {},
   "outputs": [
    {
     "name": "stdout",
     "output_type": "stream",
     "text": [
      "{'username': 'student1', 'firstname': 'student', 'pwd': '122345'}\n"
     ]
    }
   ],
   "source": [
    "print(useraccount)"
   ]
  },
  {
   "cell_type": "code",
   "execution_count": 10,
   "id": "8225e298",
   "metadata": {},
   "outputs": [],
   "source": [
    "#how to delete key value pairs from dictionary(starting point of alien\n"
   ]
  },
  {
   "cell_type": "code",
   "execution_count": 11,
   "id": "84220a02",
   "metadata": {},
   "outputs": [],
   "source": [
    "alien = {'color':'green','points':'5'}"
   ]
  },
  {
   "cell_type": "code",
   "execution_count": 12,
   "id": "7d208879",
   "metadata": {},
   "outputs": [
    {
     "name": "stdout",
     "output_type": "stream",
     "text": [
      "{'color': 'green', 'points': '5'}\n"
     ]
    }
   ],
   "source": [
    "print(alien)"
   ]
  },
  {
   "cell_type": "code",
   "execution_count": 15,
   "id": "c55935c8",
   "metadata": {},
   "outputs": [],
   "source": [
    "del alien['points']"
   ]
  },
  {
   "cell_type": "code",
   "execution_count": 16,
   "id": "ed6b1247",
   "metadata": {},
   "outputs": [
    {
     "name": "stdout",
     "output_type": "stream",
     "text": [
      "{'color': 'green'}\n"
     ]
    }
   ],
   "source": [
    "print(alien)"
   ]
  },
  {
   "cell_type": "code",
   "execution_count": 17,
   "id": "1060d202",
   "metadata": {},
   "outputs": [],
   "source": [
    "alien['starting point']=0"
   ]
  },
  {
   "cell_type": "code",
   "execution_count": 18,
   "id": "9bcaf2b7",
   "metadata": {},
   "outputs": [
    {
     "name": "stdout",
     "output_type": "stream",
     "text": [
      "{'color': 'green', 'starting point': 0}\n"
     ]
    }
   ],
   "source": [
    "print(alien)"
   ]
  },
  {
   "cell_type": "code",
   "execution_count": 20,
   "id": "000baf77",
   "metadata": {},
   "outputs": [],
   "source": [
    "#for loop in dictionary"
   ]
  },
  {
   "cell_type": "code",
   "execution_count": 24,
   "id": "911c666e",
   "metadata": {},
   "outputs": [],
   "source": [
    "#for tempvar1,tempvar2 in mainvar.items():\n",
    "    #print(tempvar1)\n",
    "    #print(tempvar2)"
   ]
  },
  {
   "cell_type": "code",
   "execution_count": 22,
   "id": "7aae62fa",
   "metadata": {},
   "outputs": [
    {
     "name": "stdout",
     "output_type": "stream",
     "text": [
      "color\n",
      "green\n",
      "starting point\n",
      "0\n"
     ]
    }
   ],
   "source": [
    "for k,v in alien.items():\n",
    "    print(k)\n",
    "    print(v)"
   ]
  },
  {
   "cell_type": "code",
   "execution_count": 25,
   "id": "10f5ffcb",
   "metadata": {},
   "outputs": [
    {
     "name": "stdout",
     "output_type": "stream",
     "text": [
      "username\n",
      "student1\n",
      "firstname\n",
      "student\n",
      "pwd\n",
      "122345\n"
     ]
    }
   ],
   "source": [
    "for a,b in useraccount.items():\n",
    "    print(a)\n",
    "    print(b)"
   ]
  },
  {
   "cell_type": "code",
   "execution_count": 26,
   "id": "355ba86a",
   "metadata": {},
   "outputs": [
    {
     "name": "stdout",
     "output_type": "stream",
     "text": [
      "key:username\n",
      "value:student1\n",
      "key:firstname\n",
      "value:student\n",
      "key:pwd\n",
      "value:122345\n"
     ]
    }
   ],
   "source": [
    "for a,b in useraccount.items():\n",
    "    print(f\"key:{a}\")\n",
    "    print(f\"value:{b}\")"
   ]
  },
  {
   "cell_type": "code",
   "execution_count": 27,
   "id": "90b3b461",
   "metadata": {},
   "outputs": [],
   "source": [
    "#how to get only keys from above"
   ]
  },
  {
   "cell_type": "code",
   "execution_count": 28,
   "id": "044ec49b",
   "metadata": {},
   "outputs": [
    {
     "name": "stdout",
     "output_type": "stream",
     "text": [
      "key:username\n",
      "key:firstname\n",
      "key:pwd\n"
     ]
    }
   ],
   "source": [
    "for a in useraccount.keys():\n",
    "    print(f\"key:{a}\")"
   ]
  },
  {
   "cell_type": "code",
   "execution_count": 30,
   "id": "dec92842",
   "metadata": {},
   "outputs": [
    {
     "name": "stdout",
     "output_type": "stream",
     "text": [
      "values:student1\n",
      "values:student\n",
      "values:122345\n"
     ]
    }
   ],
   "source": [
    "for b in useraccount.values():\n",
    "    print(f\"values:{b}\")"
   ]
  },
  {
   "cell_type": "code",
   "execution_count": null,
   "id": "031c8f5c",
   "metadata": {},
   "outputs": [],
   "source": []
  }
 ],
 "metadata": {
  "kernelspec": {
   "display_name": "Python 3",
   "language": "python",
   "name": "python3"
  },
  "language_info": {
   "codemirror_mode": {
    "name": "ipython",
    "version": 3
   },
   "file_extension": ".py",
   "mimetype": "text/x-python",
   "name": "python",
   "nbconvert_exporter": "python",
   "pygments_lexer": "ipython3",
   "version": "3.6.13"
  }
 },
 "nbformat": 4,
 "nbformat_minor": 5
}
